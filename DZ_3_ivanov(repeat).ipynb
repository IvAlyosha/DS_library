{
 "cells": [
  {
   "cell_type": "code",
   "execution_count": 1,
   "id": "046adea1",
   "metadata": {},
   "outputs": [],
   "source": [
    "import pandas as pd\n",
    "import numpy as np"
   ]
  },
  {
   "cell_type": "markdown",
   "id": "734babd9",
   "metadata": {},
   "source": [
    "Задание 1\n",
    "Создать одномерный массив Numpy под названием a из 12 последовательных целых чисел чисел от 12 до 24 невключительно"
   ]
  },
  {
   "cell_type": "code",
   "execution_count": 2,
   "id": "e98ab794",
   "metadata": {},
   "outputs": [
    {
     "data": {
      "text/plain": [
       "array([12, 13, 14, 15, 16, 17, 18, 19, 20, 21, 22, 23])"
      ]
     },
     "execution_count": 2,
     "metadata": {},
     "output_type": "execute_result"
    }
   ],
   "source": [
    "a = np.arange(12,24)\n",
    "a"
   ]
  },
  {
   "cell_type": "markdown",
   "id": "fe49e106",
   "metadata": {},
   "source": [
    "Задание 2\n",
    "Создать 5 двумерных массивов разной формы из массива a. Не использовать в аргументах метода reshape число -1"
   ]
  },
  {
   "cell_type": "code",
   "execution_count": 4,
   "id": "9544cecc",
   "metadata": {},
   "outputs": [
    {
     "data": {
      "text/plain": [
       "array([[19, 15],\n",
       "       [14, 17]])"
      ]
     },
     "execution_count": 4,
     "metadata": {},
     "output_type": "execute_result"
    }
   ],
   "source": [
    "a1 = np.random.choice(a,(2,3))\n",
    "a2 = np.random.choice(a,(3,3))\n",
    "a3 = np.random.choice(a,(3,4))\n",
    "a4 = np.random.choice(a,(4,4))\n",
    "a5= np.random.choice(a,(2,2))\n",
    "a5"
   ]
  },
  {
   "cell_type": "markdown",
   "id": "928bccb4",
   "metadata": {},
   "source": [
    "Задание 3\n",
    "Создать 5 двумерных массивов разной формы из массива a. Использовать в аргументах метода reshape число -1 (в трех примерах - для обозначения числа столбцов, в двух - для строк)."
   ]
  },
  {
   "cell_type": "code",
   "execution_count": 10,
   "id": "93ab1ce9",
   "metadata": {},
   "outputs": [
    {
     "data": {
      "text/plain": [
       "array([[12, 13, 14, 15, 16, 17],\n",
       "       [18, 19, 20, 21, 22, 23]])"
      ]
     },
     "execution_count": 10,
     "metadata": {},
     "output_type": "execute_result"
    }
   ],
   "source": [
    "b1 = a.reshape(3, -1)\n",
    "b2 = a.reshape(2, -1)\n",
    "b3 = a.reshape(4, -1)\n",
    "b4 = a.reshape(-1, 3)\n",
    "b5 = a.reshape(-1, 4)\n",
    "b2"
   ]
  },
  {
   "cell_type": "markdown",
   "id": "25f61e94",
   "metadata": {},
   "source": [
    "Задание 4\n",
    "Можно ли массив Numpy, состоящий из одного столбца и 12 строк, назвать одномерным?\n",
    "Нет, нельзя так как каждая строчка будет отдельным списком"
   ]
  },
  {
   "cell_type": "markdown",
   "id": "ba6e2e03",
   "metadata": {},
   "source": [
    "Задание 5\n",
    "Создать массив из 3 строк и 4 столбцов, состоящий из случайных чисел с плавающей запятой из нормального распределения со средним, равным 0 и среднеквадратичным отклонением, равным 1.0. Получить из этого массива одномерный массив с таким же атрибутом size, как и исходный массив."
   ]
  },
  {
   "cell_type": "code",
   "execution_count": 30,
   "id": "3f158888",
   "metadata": {},
   "outputs": [
    {
     "data": {
      "text/plain": [
       "array([-0.25607709, -1.03369334, -0.09715784,  0.44838255, -0.77588724,\n",
       "       -0.13043756, -0.57349497, -0.69354234,  0.49539042,  0.03987944,\n",
       "        2.19356422, -0.49892293])"
      ]
     },
     "execution_count": 30,
     "metadata": {},
     "output_type": "execute_result"
    }
   ],
   "source": [
    "a5 = np.random.normal(size = (3,4), loc=0.0, scale = 1.0)\n",
    "a5.flatten()"
   ]
  },
  {
   "cell_type": "markdown",
   "id": "713c37d7",
   "metadata": {},
   "source": [
    "Задание 6\n",
    "Создать массив a, состоящий из целых чисел, убывающих от 20 до 0 невключительно с интервалом 2."
   ]
  },
  {
   "cell_type": "code",
   "execution_count": 26,
   "id": "1f7d116d",
   "metadata": {},
   "outputs": [
    {
     "name": "stdout",
     "output_type": "stream",
     "text": [
      "[20 18 16 14 12 10  8  6  4  2]\n"
     ]
    }
   ],
   "source": [
    "a = np.arange(20,0,-2)\n",
    "print(a)"
   ]
  },
  {
   "cell_type": "markdown",
   "id": "46fb425c",
   "metadata": {},
   "source": [
    "Задание 7 \n",
    "Создать массив b, состоящий из 1 строки и 10 столбцов: целых чисел, убывающих от 20 до 1 невключительно с интервалом 2. В чем разница между массивами a и b?"
   ]
  },
  {
   "cell_type": "code",
   "execution_count": 29,
   "id": "f6500b4e",
   "metadata": {},
   "outputs": [
    {
     "name": "stdout",
     "output_type": "stream",
     "text": [
      "[20 18 16 14 12 10  8  6  4  2]\n"
     ]
    }
   ],
   "source": [
    "b = np.arange(20,1,-2)\n",
    "print(b)"
   ]
  },
  {
   "cell_type": "markdown",
   "id": "62e8e405",
   "metadata": {},
   "source": [
    "Задание 8\n",
    "Вертикально соединить массивы a и b. a - двумерный массив из нулей, число строк которого больше 1 и на 1 меньше, чем число строк двумерного массива b, состоящего из единиц. Итоговый массив v должен иметь атрибут size, равный 10."
   ]
  },
  {
   "cell_type": "code",
   "execution_count": 32,
   "id": "656af8aa",
   "metadata": {},
   "outputs": [
    {
     "data": {
      "text/plain": [
       "array([[0., 0., 0., 0., 0.],\n",
       "       [0., 0., 0., 0., 0.],\n",
       "       [0., 0., 0., 0., 0.],\n",
       "       [0., 0., 0., 0., 0.],\n",
       "       [1., 1., 1., 1., 1.],\n",
       "       [1., 1., 1., 1., 1.],\n",
       "       [1., 1., 1., 1., 1.],\n",
       "       [1., 1., 1., 1., 1.],\n",
       "       [1., 1., 1., 1., 1.]])"
      ]
     },
     "execution_count": 32,
     "metadata": {},
     "output_type": "execute_result"
    }
   ],
   "source": [
    "a = np.zeros((4,5))\n",
    "b = np.ones((5,5))\n",
    "np.concatenate((a, b), axis=0)"
   ]
  },
  {
   "cell_type": "markdown",
   "id": "39cccb5a",
   "metadata": {},
   "source": [
    "Задание 9\n",
    "Создать одномерный массив а, состоящий из последовательности целых чисел от 0 до 12. Поменять форму этого массива, чтобы получилась матрица A (двумерный массив Numpy), состоящая из 4 строк и 3 столбцов. Получить матрицу At путем транспонирования матрицы A. Получить матрицу B, умножив матрицу A на матрицу At с помощью матричного умножения. Какой размер имеет матрица B? Получится ли вычислить обратную матрицу для матрицы B и почему?"
   ]
  },
  {
   "cell_type": "code",
   "execution_count": 43,
   "id": "42d72d82",
   "metadata": {},
   "outputs": [
    {
     "data": {
      "text/plain": [
       "array([[ 45,  36,  45,  42],\n",
       "       [ 36,  61,  76,  70],\n",
       "       [ 45,  76, 145, 142],\n",
       "       [ 42,  70, 142, 140]])"
      ]
     },
     "execution_count": 43,
     "metadata": {},
     "output_type": "execute_result"
    }
   ],
   "source": [
    "a = np.arange(0,12)\n",
    "A = np.random.choice(a,(4,3))\n",
    "B = A@A.T\n",
    "B"
   ]
  },
  {
   "cell_type": "markdown",
   "id": "1733b1b9",
   "metadata": {},
   "source": [
    "Задание 10\n",
    "Инициализируйте генератор случайных числе с помощью объекта seed, равного 42."
   ]
  },
  {
   "cell_type": "code",
   "execution_count": 44,
   "id": "a441ff6f",
   "metadata": {},
   "outputs": [
    {
     "data": {
      "text/plain": [
       "array([0.16122129, 0.92969765, 0.80812038, 0.63340376, 0.87146059,\n",
       "       0.80367208, 0.18657006, 0.892559  , 0.53934224, 0.80744016,\n",
       "       0.8960913 , 0.31800347, 0.11005192, 0.22793516, 0.42710779,\n",
       "       0.81801477, 0.86073058, 0.00695213, 0.5107473 , 0.417411  ,\n",
       "       0.22210781, 0.11986537, 0.33761517, 0.9429097 , 0.32320293,\n",
       "       0.51879062, 0.70301896, 0.3636296 , 0.97178208, 0.96244729,\n",
       "       0.2517823 , 0.49724851, 0.30087831, 0.28484049, 0.03688695,\n",
       "       0.60956433, 0.50267902, 0.05147875, 0.27864646, 0.90826589,\n",
       "       0.23956189, 0.14489487])"
      ]
     },
     "execution_count": 44,
     "metadata": {},
     "output_type": "execute_result"
    }
   ],
   "source": [
    "np.random.rand(42)"
   ]
  },
  {
   "cell_type": "markdown",
   "id": "2587457a",
   "metadata": {},
   "source": [
    "Задание 11\n",
    "Создайте одномерный массив c, составленный из последовательности 16-ти случайных равномерно распределенных целых чисел от 0 до 16 невключительно. "
   ]
  },
  {
   "cell_type": "code",
   "execution_count": null,
   "id": "3d2426d9",
   "metadata": {},
   "outputs": [],
   "source": []
  },
  {
   "cell_type": "code",
   "execution_count": 59,
   "id": "41b4bcb0",
   "metadata": {},
   "outputs": [],
   "source": [
    "с = np.random.randint(0,16, size = 16)"
   ]
  },
  {
   "cell_type": "markdown",
   "id": "4ba13d92",
   "metadata": {},
   "source": [
    "Задание 12\n",
    "Поменяйте его форму так, чтобы получилась квадратная матрица C. Получите матрицу D, поэлементно прибавив матрицу B из предыдущего вопроса к матрице C, умноженной на 10. Вычислите определитель, ранг и обратную матрицу D_inv для D."
   ]
  },
  {
   "cell_type": "code",
   "execution_count": 79,
   "id": "3d3114a5",
   "metadata": {},
   "outputs": [
    {
     "data": {
      "text/plain": [
       "array([[ 3, 11, 10,  3],\n",
       "       [ 2,  9,  2, 14],\n",
       "       [ 2,  3, 15,  6],\n",
       "       [ 3,  8,  0,  7]])"
      ]
     },
     "execution_count": 79,
     "metadata": {},
     "output_type": "execute_result"
    }
   ],
   "source": [
    "C = с.reshape(4, 4)\n",
    "D = B+C*10\n",
    "np.linalg.matrix_rank(D)"
   ]
  },
  {
   "cell_type": "code",
   "execution_count": 80,
   "id": "655cb7a7",
   "metadata": {},
   "outputs": [
    {
     "data": {
      "text/plain": [
       "array([[ 45,  36,  45,  42],\n",
       "       [ 36,  61,  76,  70],\n",
       "       [ 45,  76, 145, 142],\n",
       "       [ 42,  70, 142, 140]])"
      ]
     },
     "execution_count": 80,
     "metadata": {},
     "output_type": "execute_result"
    }
   ],
   "source": [
    "np.linalg.det(D)"
   ]
  },
  {
   "cell_type": "code",
   "execution_count": 76,
   "id": "7ebb3341",
   "metadata": {},
   "outputs": [],
   "source": [
    "D_inv= np.linalg.inv(D)"
   ]
  },
  {
   "cell_type": "markdown",
   "id": "e9ccecae",
   "metadata": {},
   "source": [
    "Задание 13\n",
    "Приравняйте к нулю отрицательные числа в матрице D_inv, а положительные - к единице. Убедитесь, что в матрице D_inv остались только нули и единицы. С помощью функции numpy.where, используя матрицу D_inv в качестве маски, а матрицы B и C - в качестве источников данных, получите матрицу E размером 4x4.  Элементы матрицы E, для которых соответствующий элемент матрицы D_inv равен 1, должны быть равны соответствующему элементу матрицы B, а элементы матрицы E, для которых соответствующий элемент матрицы D_inv равен 0, должны быть равны соответствующему элементу матрицы C."
   ]
  },
  {
   "cell_type": "code",
   "execution_count": 77,
   "id": "d30c91b8",
   "metadata": {},
   "outputs": [
    {
     "data": {
      "text/plain": [
       "array([[0., 0., 0., 1.],\n",
       "       [1., 1., 1., 0.],\n",
       "       [1., 1., 1., 0.],\n",
       "       [0., 0., 0., 1.]])"
      ]
     },
     "execution_count": 77,
     "metadata": {},
     "output_type": "execute_result"
    }
   ],
   "source": [
    "D_inv[D_inv>0] = 1\n",
    "D_inv[D_inv<0] = 0\n",
    "D_inv"
   ]
  },
  {
   "cell_type": "code",
   "execution_count": 78,
   "id": "a5dbffde",
   "metadata": {},
   "outputs": [
    {
     "data": {
      "text/plain": [
       "array([[  3,  11,  10,  42],\n",
       "       [ 36,  61,  76,  14],\n",
       "       [ 45,  76, 145,   6],\n",
       "       [  3,   8,   0, 140]])"
      ]
     },
     "execution_count": 78,
     "metadata": {},
     "output_type": "execute_result"
    }
   ],
   "source": [
    "E = np.where(D_inv, B, C)\n",
    "E"
   ]
  },
  {
   "cell_type": "code",
   "execution_count": null,
   "id": "af78ec17",
   "metadata": {},
   "outputs": [],
   "source": []
  }
 ],
 "metadata": {
  "kernelspec": {
   "display_name": "Python 3",
   "language": "python",
   "name": "python3"
  },
  "language_info": {
   "codemirror_mode": {
    "name": "ipython",
    "version": 3
   },
   "file_extension": ".py",
   "mimetype": "text/x-python",
   "name": "python",
   "nbconvert_exporter": "python",
   "pygments_lexer": "ipython3",
   "version": "3.8.8"
  }
 },
 "nbformat": 4,
 "nbformat_minor": 5
}
